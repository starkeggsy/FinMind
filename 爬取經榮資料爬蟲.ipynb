{
  "nbformat": 4,
  "nbformat_minor": 0,
  "metadata": {
    "colab": {
      "provenance": [],
      "authorship_tag": "ABX9TyNKzIvdunFA3mMuDO2d0Ou7",
      "include_colab_link": true
    },
    "kernelspec": {
      "name": "python3",
      "display_name": "Python 3"
    },
    "language_info": {
      "name": "python"
    }
  },
  "cells": [
    {
      "cell_type": "markdown",
      "metadata": {
        "id": "view-in-github",
        "colab_type": "text"
      },
      "source": [
        "<a href=\"https://colab.research.google.com/github/starkeggsy/FinMind/blob/master/%E7%88%AC%E5%8F%96%E7%B6%93%E6%A6%AE%E8%B3%87%E6%96%99%E7%88%AC%E8%9F%B2.ipynb\" target=\"_parent\"><img src=\"https://colab.research.google.com/assets/colab-badge.svg\" alt=\"Open In Colab\"/></a>"
      ]
    },
    {
      "cell_type": "code",
      "source": [
        "import requests\n",
        "from bs4 import BeautifulSoup\n",
        "\n",
        "dow_url = 'https://tw.stock.yahoo.com/quote/%5EDJI'\n",
        "dow_response = requests.get(dow_url)\n",
        "\n",
        "dow_soup = BeautifulSoup(dow_response.text, 'html.parser')\n",
        "\n",
        "# 道瓊工業指數\n",
        "dow_price_element = dow_soup.find('span', {'class': \"Fw(600) Fz(16px)--mobile Fz(14px) D(f) Ai(c)\"})\n",
        "dow_price = dow_price_element.text if dow_price_element is not None else None\n",
        "print('道瓊工業指數：', dow_price if dow_price is not None else '未找到價格')"
      ],
      "metadata": {
        "colab": {
          "base_uri": "https://localhost:8080/"
        },
        "id": "1Htl7cxw2NT5",
        "outputId": "6c3d52e0-c27a-4adb-9ecc-2b5f7ec97705"
      },
      "execution_count": null,
      "outputs": [
        {
          "output_type": "stream",
          "name": "stdout",
          "text": [
            "道瓊工業指數： 32,516.61\n"
          ]
        }
      ]
    },
    {
      "cell_type": "code",
      "source": [
        "SP500_url = 'https://tw.stock.yahoo.com/quote/%5EGSPC'\n",
        "SP500_response = requests.get(SP500_url)\n",
        "\n",
        "SP500_soup = BeautifulSoup(SP500_response.text, 'html.parser')\n",
        "\n",
        "# S&P500\n",
        "SP500_price_element = SP500_soup.find('span', {'class': \"Fw(600) Fz(16px)--mobile Fz(14px) D(f) Ai(c)\"})\n",
        "SP500_price = SP500_price_element.text if dow_price_element is not None else None\n",
        "print('道瓊工業指數：', SP500_price if SP500_price is not None else '未找到價格')"
      ],
      "metadata": {
        "colab": {
          "base_uri": "https://localhost:8080/"
        },
        "id": "j6o60HzU5dt5",
        "outputId": "7ec2149a-7c29-4b64-d952-f2876fed9053"
      },
      "execution_count": null,
      "outputs": [
        {
          "output_type": "stream",
          "name": "stdout",
          "text": [
            "道瓊工業指數： 3,973.50\n"
          ]
        }
      ]
    },
    {
      "cell_type": "code",
      "source": [
        "SP500_url = 'https://tw.stock.yahoo.com/quote/%5EIXIC'\n",
        "SP500_response = requests.get(SP500_url)\n",
        "\n",
        "SP500_soup = BeautifulSoup(SP500_response.text, 'html.parser')\n",
        "\n",
        "# NASDAQ \n",
        "SP500_price_element = SP500_soup.find('span', {'class': \"Fw(600) Fz(16px)--mobile Fz(14px) D(f) Ai(c)\"})\n",
        "SP500_price = SP500_price_element.text if dow_price_element is not None else None\n",
        "print('道瓊工業指數：', SP500_price if SP500_price is not None else '未找到價格')"
      ],
      "metadata": {
        "colab": {
          "base_uri": "https://localhost:8080/"
        },
        "id": "s1LIodqy8bRZ",
        "outputId": "17da32bf-c142-4cce-f866-0118951fc22f"
      },
      "execution_count": null,
      "outputs": [
        {
          "output_type": "stream",
          "name": "stdout",
          "text": [
            "道瓊工業指數： 3,973.46\n"
          ]
        }
      ]
    },
    {
      "cell_type": "code",
      "source": [
        "PHLX_url = 'https://tw.stock.yahoo.com/quote/%5ESOX'\n",
        "PHLX_response = requests.get(PHLX_url)\n",
        "\n",
        "PHLX_soup = BeautifulSoup(PHLX_response.text, 'html.parser')\n",
        "\n",
        "# PHLX \n",
        "PHLX_price_element = PHLX_soup.find('span', {'class': \"Fw(600) Fz(16px)--mobile Fz(14px) D(f) Ai(c)\"})\n",
        "PHLX_price = PHLX_price_element.text if dow_price_element is not None else None\n",
        "print('道瓊工業指數：', PHLX_price if PHLX_price is not None else '未找到價格')"
      ],
      "metadata": {
        "colab": {
          "base_uri": "https://localhost:8080/"
        },
        "id": "MOeia0h79xg_",
        "outputId": "f41a4531-8387-403c-dea5-7531f3b3b418"
      },
      "execution_count": null,
      "outputs": [
        {
          "output_type": "stream",
          "name": "stdout",
          "text": [
            "道瓊工業指數： 3,083.57\n"
          ]
        }
      ]
    },
    {
      "cell_type": "code",
      "source": [
        "import requests\n",
        "from bs4 import BeautifulSoup\n",
        "from datetime import date\n",
        "\n",
        "# Get today's date\n",
        "today = date.today()\n",
        "\n",
        "# Format today's date as a string in the desired format\n",
        "today_str = today.strftime('%Y/%m/%d')\n",
        "\n",
        "# URL of the webpage you want to scrape\n",
        "url = 'https://www.taiwanindex.com.tw/index/history/t00'\n",
        "\n",
        "# Make a request to the webpage\n",
        "response = requests.get(url)\n",
        "\n",
        "# Parse the HTML content using BeautifulSoup\n",
        "soup = BeautifulSoup(response.content, 'html.parser')\n",
        "\n",
        "# Find the div element with class 'my-class'\n",
        "my_div = soup.find('div', {'class': 'tab_content'})\n",
        "\n",
        "# Find the table element inside the div\n",
        "my_table = my_div.find('table')\n",
        "\n",
        "# Extract the data from the table\n",
        "for row in my_table.find_all('tr'):\n",
        "    cols = row.find_all('td')\n",
        "    cols = [col.text.strip() for col in cols]\n",
        "    if today_str in cols:\n",
        "      TWII_price =cols[1]\n",
        "      break\n",
        "print('台灣加權指數：', TWII_price if TWII_price is not None else '未找到價格')    "
      ],
      "metadata": {
        "colab": {
          "base_uri": "https://localhost:8080/"
        },
        "id": "NtE-AiaA-rQ9",
        "outputId": "d5563573-3460-4e1f-c05a-4ed9c03b1269"
      },
      "execution_count": null,
      "outputs": [
        {
          "output_type": "stream",
          "name": "stdout",
          "text": [
            "台灣加權指數： 15701.48\n"
          ]
        }
      ]
    },
    {
      "cell_type": "code",
      "source": [
        "import openpyxl\n",
        "\n",
        "# Load the Excel file\n",
        "workbook = openpyxl.load_workbook('example.xlsx')\n",
        "\n",
        "# Select the worksheet\n",
        "worksheet = workbook.active\n",
        "\n",
        "# Define the values you want to add\n",
        "my_values = [1, 2, 3, 4]\n",
        "\n",
        "# Loop through the values and add them to the worksheet\n",
        "for i, value in enumerate(my_values):\n",
        "    cell = worksheet.cell(row=i+1, column=1) # Column B\n",
        "    cell.value = value\n",
        "\n",
        "# Save the Excel file\n",
        "workbook.save('example.xlsx')\n"
      ],
      "metadata": {
        "id": "2YCrYoFSQ-W9"
      },
      "execution_count": null,
      "outputs": []
    },
    {
      "cell_type": "code",
      "source": [
        "cols"
      ],
      "metadata": {
        "colab": {
          "base_uri": "https://localhost:8080/"
        },
        "id": "sd1Qmu5FUA6u",
        "outputId": "6a6d59ab-7fa2-4eef-d869-07d2c4cfa585"
      },
      "execution_count": null,
      "outputs": [
        {
          "output_type": "execute_result",
          "data": {
            "text/plain": [
              "['2023/03/28', '15701.48', '32704.51', '128.83', '0.81%']"
            ]
          },
          "metadata": {},
          "execution_count": 118
        }
      ]
    },
    {
      "cell_type": "code",
      "source": [
        "import requests\n",
        "from bs4 import BeautifulSoup\n",
        "from datetime import date\n",
        "\n",
        "# URL of the webpage you want to scrape\n",
        "url = 'https://www.twse.com.tw/zh/trading/historical/mi-index.html'\n",
        "\n",
        "# Make a request to the webpage\n",
        "response = requests.get(url)\n",
        "\n",
        "# Parse the HTML content using BeautifulSoup\n",
        "soup = BeautifulSoup(response.content, 'html.parser')\n",
        "\n",
        "# Find the div element with class 'my-class'\n",
        "my_div = soup.find('div', {'class': 'rwd-table dragscroll grid all F1 L1 R2_ enable-dock'})\n",
        "\n",
        "# Find the table element inside the div\n",
        "my_table = my_div.find('table')\n",
        "\n",
        "# Extract the data from the table\n",
        "for row in my_table.find_all('tr'):\n",
        "    cols = row.find_all('td')\n",
        "    cols = [col.text.strip() for col in cols]\n",
        "\n",
        "print('台灣加權指數：', cols if cols is not None else '未找到價格')    "
      ],
      "metadata": {
        "colab": {
          "base_uri": "https://localhost:8080/",
          "height": 242
        },
        "id": "oAAA8rxWWWYv",
        "outputId": "e0e1f985-30ff-4831-cad8-d80b6e3ff0fa"
      },
      "execution_count": null,
      "outputs": [
        {
          "output_type": "error",
          "ename": "AttributeError",
          "evalue": "ignored",
          "traceback": [
            "\u001b[0;31m---------------------------------------------------------------------------\u001b[0m",
            "\u001b[0;31mAttributeError\u001b[0m                            Traceback (most recent call last)",
            "\u001b[0;32m<ipython-input-133-44c80a1a1556>\u001b[0m in \u001b[0;36m<module>\u001b[0;34m\u001b[0m\n\u001b[1;32m     16\u001b[0m \u001b[0;34m\u001b[0m\u001b[0m\n\u001b[1;32m     17\u001b[0m \u001b[0;31m# Find the table element inside the div\u001b[0m\u001b[0;34m\u001b[0m\u001b[0;34m\u001b[0m\u001b[0m\n\u001b[0;32m---> 18\u001b[0;31m \u001b[0mmy_table\u001b[0m \u001b[0;34m=\u001b[0m \u001b[0mmy_div\u001b[0m\u001b[0;34m.\u001b[0m\u001b[0mfind\u001b[0m\u001b[0;34m(\u001b[0m\u001b[0;34m'table'\u001b[0m\u001b[0;34m)\u001b[0m\u001b[0;34m\u001b[0m\u001b[0;34m\u001b[0m\u001b[0m\n\u001b[0m\u001b[1;32m     19\u001b[0m \u001b[0;34m\u001b[0m\u001b[0m\n\u001b[1;32m     20\u001b[0m \u001b[0;31m# Extract the data from the table\u001b[0m\u001b[0;34m\u001b[0m\u001b[0;34m\u001b[0m\u001b[0m\n",
            "\u001b[0;31mAttributeError\u001b[0m: 'NoneType' object has no attribute 'find'"
          ]
        }
      ]
    },
    {
      "cell_type": "code",
      "source": [
        "import requests\n",
        "\n",
        "url = \"https://openapi.twse.com.tw/v1/opendata/twtazu_od\"\n",
        "\n",
        "headers = {\n",
        "    'accept': 'application/json',\n",
        "    'If-Modified-Since': 'Feb, 28 Mar 2023 05:00:00 GMT',\n",
        "    'Cache-Control': 'no-cache',\n",
        "    'Pragma': 'no-cache'\n",
        "}\n",
        "params = {\n",
        "    'date': '20230328'\n",
        "}\n",
        "\n",
        "response = requests.get(url, headers=headers, params=params)\n",
        "\n",
        "print(response.text)\n"
      ],
      "metadata": {
        "colab": {
          "base_uri": "https://localhost:8080/"
        },
        "id": "GC1oZNWGYE0v",
        "outputId": "13f7772e-3ad2-4be6-f271-1885e91798e1"
      },
      "execution_count": null,
      "outputs": [
        {
          "output_type": "stream",
          "name": "stdout",
          "text": [
            "[\n",
            "{\"出表日期\":\"1101108\",\"類型\":\"整體市場\",\"上漲\":\"5403\",\"漲停\":\"60\",\"下跌\":\"4030\",\"跌停\":\"52\",\"持平\":\"517\",\"未成交\":\"11214\",\"無比價\":\"2537\"},\n",
            "{\"出表日期\":\"1101108\",\"類型\":\"股票\",\"上漲\":\"476\",\"漲停\":\"14\",\"下跌\":\"388\",\"跌停\":\"2\",\"持平\":\"81\",\"未成交\":\"1\",\"無比價\":\"8\"}]\n",
            "\n"
          ]
        }
      ]
    },
    {
      "cell_type": "code",
      "source": [
        "import requests\n",
        "import json\n",
        "import datetime\n",
        "\n",
        "# 設定查詢日期\n",
        "today = datetime.date.today().strftime('%Y%m%d')\n",
        "\n",
        "# 設定查詢URL\n",
        "url = 'https://www.twse.com.tw/zh/trading/historical/mi-index.html' + today + '&type=ALL'\n",
        "\n",
        "# 發送HTTP請求\n",
        "response = requests.get(url)\n",
        "\n",
        "# 解析JSON數據\n",
        "data = json.loads(response.text)\n",
        "\n",
        "# 取得上漲股票數量\n",
        "up_count = data['data1'][0]\n",
        "\n",
        "# 印出結果\n",
        "print('上漲股票數量:', up_count)\n"
      ],
      "metadata": {
        "colab": {
          "base_uri": "https://localhost:8080/",
          "height": 373
        },
        "id": "JnQTH51uboF6",
        "outputId": "e1464e84-8928-4911-8d0e-9d2836462098"
      },
      "execution_count": null,
      "outputs": [
        {
          "output_type": "error",
          "ename": "JSONDecodeError",
          "evalue": "ignored",
          "traceback": [
            "\u001b[0;31m---------------------------------------------------------------------------\u001b[0m",
            "\u001b[0;31mJSONDecodeError\u001b[0m                           Traceback (most recent call last)",
            "\u001b[0;32m<ipython-input-147-7b7c18e53c75>\u001b[0m in \u001b[0;36m<module>\u001b[0;34m\u001b[0m\n\u001b[1;32m     13\u001b[0m \u001b[0;34m\u001b[0m\u001b[0m\n\u001b[1;32m     14\u001b[0m \u001b[0;31m# 解析JSON數據\u001b[0m\u001b[0;34m\u001b[0m\u001b[0;34m\u001b[0m\u001b[0m\n\u001b[0;32m---> 15\u001b[0;31m \u001b[0mdata\u001b[0m \u001b[0;34m=\u001b[0m \u001b[0mjson\u001b[0m\u001b[0;34m.\u001b[0m\u001b[0mloads\u001b[0m\u001b[0;34m(\u001b[0m\u001b[0mresponse\u001b[0m\u001b[0;34m.\u001b[0m\u001b[0mtext\u001b[0m\u001b[0;34m)\u001b[0m\u001b[0;34m\u001b[0m\u001b[0;34m\u001b[0m\u001b[0m\n\u001b[0m\u001b[1;32m     16\u001b[0m \u001b[0;34m\u001b[0m\u001b[0m\n\u001b[1;32m     17\u001b[0m \u001b[0;31m# 取得上漲股票數量\u001b[0m\u001b[0;34m\u001b[0m\u001b[0;34m\u001b[0m\u001b[0m\n",
            "\u001b[0;32m/usr/lib/python3.9/json/__init__.py\u001b[0m in \u001b[0;36mloads\u001b[0;34m(s, cls, object_hook, parse_float, parse_int, parse_constant, object_pairs_hook, **kw)\u001b[0m\n\u001b[1;32m    344\u001b[0m             \u001b[0mparse_int\u001b[0m \u001b[0;32mis\u001b[0m \u001b[0;32mNone\u001b[0m \u001b[0;32mand\u001b[0m \u001b[0mparse_float\u001b[0m \u001b[0;32mis\u001b[0m \u001b[0;32mNone\u001b[0m \u001b[0;32mand\u001b[0m\u001b[0;34m\u001b[0m\u001b[0;34m\u001b[0m\u001b[0m\n\u001b[1;32m    345\u001b[0m             parse_constant is None and object_pairs_hook is None and not kw):\n\u001b[0;32m--> 346\u001b[0;31m         \u001b[0;32mreturn\u001b[0m \u001b[0m_default_decoder\u001b[0m\u001b[0;34m.\u001b[0m\u001b[0mdecode\u001b[0m\u001b[0;34m(\u001b[0m\u001b[0ms\u001b[0m\u001b[0;34m)\u001b[0m\u001b[0;34m\u001b[0m\u001b[0;34m\u001b[0m\u001b[0m\n\u001b[0m\u001b[1;32m    347\u001b[0m     \u001b[0;32mif\u001b[0m \u001b[0mcls\u001b[0m \u001b[0;32mis\u001b[0m \u001b[0;32mNone\u001b[0m\u001b[0;34m:\u001b[0m\u001b[0;34m\u001b[0m\u001b[0;34m\u001b[0m\u001b[0m\n\u001b[1;32m    348\u001b[0m         \u001b[0mcls\u001b[0m \u001b[0;34m=\u001b[0m \u001b[0mJSONDecoder\u001b[0m\u001b[0;34m\u001b[0m\u001b[0;34m\u001b[0m\u001b[0m\n",
            "\u001b[0;32m/usr/lib/python3.9/json/decoder.py\u001b[0m in \u001b[0;36mdecode\u001b[0;34m(self, s, _w)\u001b[0m\n\u001b[1;32m    335\u001b[0m \u001b[0;34m\u001b[0m\u001b[0m\n\u001b[1;32m    336\u001b[0m         \"\"\"\n\u001b[0;32m--> 337\u001b[0;31m         \u001b[0mobj\u001b[0m\u001b[0;34m,\u001b[0m \u001b[0mend\u001b[0m \u001b[0;34m=\u001b[0m \u001b[0mself\u001b[0m\u001b[0;34m.\u001b[0m\u001b[0mraw_decode\u001b[0m\u001b[0;34m(\u001b[0m\u001b[0ms\u001b[0m\u001b[0;34m,\u001b[0m \u001b[0midx\u001b[0m\u001b[0;34m=\u001b[0m\u001b[0m_w\u001b[0m\u001b[0;34m(\u001b[0m\u001b[0ms\u001b[0m\u001b[0;34m,\u001b[0m \u001b[0;36m0\u001b[0m\u001b[0;34m)\u001b[0m\u001b[0;34m.\u001b[0m\u001b[0mend\u001b[0m\u001b[0;34m(\u001b[0m\u001b[0;34m)\u001b[0m\u001b[0;34m)\u001b[0m\u001b[0;34m\u001b[0m\u001b[0;34m\u001b[0m\u001b[0m\n\u001b[0m\u001b[1;32m    338\u001b[0m         \u001b[0mend\u001b[0m \u001b[0;34m=\u001b[0m \u001b[0m_w\u001b[0m\u001b[0;34m(\u001b[0m\u001b[0ms\u001b[0m\u001b[0;34m,\u001b[0m \u001b[0mend\u001b[0m\u001b[0;34m)\u001b[0m\u001b[0;34m.\u001b[0m\u001b[0mend\u001b[0m\u001b[0;34m(\u001b[0m\u001b[0;34m)\u001b[0m\u001b[0;34m\u001b[0m\u001b[0;34m\u001b[0m\u001b[0m\n\u001b[1;32m    339\u001b[0m         \u001b[0;32mif\u001b[0m \u001b[0mend\u001b[0m \u001b[0;34m!=\u001b[0m \u001b[0mlen\u001b[0m\u001b[0;34m(\u001b[0m\u001b[0ms\u001b[0m\u001b[0;34m)\u001b[0m\u001b[0;34m:\u001b[0m\u001b[0;34m\u001b[0m\u001b[0;34m\u001b[0m\u001b[0m\n",
            "\u001b[0;32m/usr/lib/python3.9/json/decoder.py\u001b[0m in \u001b[0;36mraw_decode\u001b[0;34m(self, s, idx)\u001b[0m\n\u001b[1;32m    353\u001b[0m             \u001b[0mobj\u001b[0m\u001b[0;34m,\u001b[0m \u001b[0mend\u001b[0m \u001b[0;34m=\u001b[0m \u001b[0mself\u001b[0m\u001b[0;34m.\u001b[0m\u001b[0mscan_once\u001b[0m\u001b[0;34m(\u001b[0m\u001b[0ms\u001b[0m\u001b[0;34m,\u001b[0m \u001b[0midx\u001b[0m\u001b[0;34m)\u001b[0m\u001b[0;34m\u001b[0m\u001b[0;34m\u001b[0m\u001b[0m\n\u001b[1;32m    354\u001b[0m         \u001b[0;32mexcept\u001b[0m \u001b[0mStopIteration\u001b[0m \u001b[0;32mas\u001b[0m \u001b[0merr\u001b[0m\u001b[0;34m:\u001b[0m\u001b[0;34m\u001b[0m\u001b[0;34m\u001b[0m\u001b[0m\n\u001b[0;32m--> 355\u001b[0;31m             \u001b[0;32mraise\u001b[0m \u001b[0mJSONDecodeError\u001b[0m\u001b[0;34m(\u001b[0m\u001b[0;34m\"Expecting value\"\u001b[0m\u001b[0;34m,\u001b[0m \u001b[0ms\u001b[0m\u001b[0;34m,\u001b[0m \u001b[0merr\u001b[0m\u001b[0;34m.\u001b[0m\u001b[0mvalue\u001b[0m\u001b[0;34m)\u001b[0m \u001b[0;32mfrom\u001b[0m \u001b[0;32mNone\u001b[0m\u001b[0;34m\u001b[0m\u001b[0;34m\u001b[0m\u001b[0m\n\u001b[0m\u001b[1;32m    356\u001b[0m         \u001b[0;32mreturn\u001b[0m \u001b[0mobj\u001b[0m\u001b[0;34m,\u001b[0m \u001b[0mend\u001b[0m\u001b[0;34m\u001b[0m\u001b[0;34m\u001b[0m\u001b[0m\n",
            "\u001b[0;31mJSONDecodeError\u001b[0m: Expecting value: line 1 column 1 (char 0)"
          ]
        }
      ]
    },
    {
      "cell_type": "code",
      "source": [
        "response"
      ],
      "metadata": {
        "id": "c54LMSnqcvX5",
        "colab": {
          "base_uri": "https://localhost:8080/"
        },
        "outputId": "32cd24e7-26bd-4064-c909-e5d531ef3b69"
      },
      "execution_count": null,
      "outputs": [
        {
          "output_type": "execute_result",
          "data": {
            "text/plain": [
              "<Response [200]>"
            ]
          },
          "metadata": {},
          "execution_count": 146
        }
      ]
    },
    {
      "cell_type": "code",
      "source": [
        "https://www.twse.com.tw/rwd/zh/afterTrading/MI_INDEX?response=json&_=1680095106734"
      ],
      "metadata": {
        "id": "w6CIKSt1e5ck"
      },
      "execution_count": null,
      "outputs": []
    },
    {
      "cell_type": "code",
      "source": [
        "import requests\n",
        "import json\n",
        "res = requests.get('https://www.twse.com.tw/rwd/zh/afterTrading/MI_INDEX')\n",
        "jd = res.json()\n",
        "#data = json.loads(res.text)"
      ],
      "metadata": {
        "id": "_ej7EUdQif8O"
      },
      "execution_count": 43,
      "outputs": []
    },
    {
      "cell_type": "code",
      "source": [
        "# Access the data array and get the value of '上漲'\n",
        "for table in data['tables']:\n",
        "    if table.get('title') == '漲跌證券數合計':\n",
        "        上漲_data = table['data'][0]\n",
        "        上漲家數 = 上漲_data[1].split('(')[0]\n",
        "        漲停家數 = 上漲_data[1].split('(')[1].split(')')[0]\n",
        "        下跌_data = table['data'][1]\n",
        "        下跌家數 = 下跌_data[1].split('(')[0]\n",
        "        跌停家數 = 下跌_data[1].split('(')[1].split(')')[0]\n",
        "        break\n",
        "\n",
        "print(上漲家數)  # This will print the value of '上漲', which is '3,981(6)'\n",
        "print(漲停家數)  # This will print the value of '漲停', which is '6'\n",
        "print(下跌家數)  # This will print the value of '上漲', which is '3,981(6)'\n",
        "print(跌停家數)  # This will print the value of '漲停', which is '6'"
      ],
      "metadata": {
        "colab": {
          "base_uri": "https://localhost:8080/"
        },
        "id": "Z_xv_n6dik68",
        "outputId": "3eae5aa4-c2e7-4e85-cdf0-9c354ef0b488"
      },
      "execution_count": 45,
      "outputs": [
        {
          "output_type": "stream",
          "name": "stdout",
          "text": [
            "3,981\n",
            "6\n",
            "4,377\n",
            "46\n"
          ]
        }
      ]
    },
    {
      "cell_type": "code",
      "source": [
        "import requests\n",
        "import json\n",
        "\n",
        "url = \"https://www.twse.com.tw/rwd/zh/marginTrading/MI_MARGN\"\n",
        "response = requests.get(url)\n",
        "data = json.loads(response.text)\n",
        "\n",
        "# Extract the 融資(交易單位) value\n",
        "table_data = data[\"tables\"][0][\"data\"]\n",
        "for row in table_data:\n",
        "    if row[0] == \"融資(交易單位)\":\n",
        "        financing_unit = row[5]\n",
        "        break\n",
        "\n",
        "print(financing_unit)\n"
      ],
      "metadata": {
        "colab": {
          "base_uri": "https://localhost:8080/"
        },
        "id": "G4MOiJrdnsdA",
        "outputId": "2fb4f8d4-7ed2-4f1d-c2f1-d3d413115830"
      },
      "execution_count": 65,
      "outputs": [
        {
          "output_type": "stream",
          "name": "stdout",
          "text": [
            "6,902,840\n"
          ]
        }
      ]
    },
    {
      "cell_type": "code",
      "source": [],
      "metadata": {
        "id": "UwCFtqMV37ij"
      },
      "execution_count": 66,
      "outputs": []
    },
    {
      "cell_type": "code",
      "source": [
        "import requests\n",
        "import json\n",
        "\n",
        "url = \"https://www.twse.com.tw/rwd/zh/marginTrading/MI_MARGN\"\n",
        "response = requests.get(url)\n",
        "data = json.loads(response.text)\n",
        "tables = data[\"tables\"]\n",
        "\n",
        "# Extract the \"data\" section of the first table\n",
        "table_data = tables[0][\"data\"]\n",
        "\n",
        "# Extract the values for \"融券 (交易單位)\" and \"融資金額 (仟元)\"\n",
        "融券餘額_張 = table_data[1][5]\n",
        "融資餘額_千 = table_data[2][5]\n",
        "print(融券餘額_張)\n",
        "print(融資餘額_仟)"
      ],
      "metadata": {
        "colab": {
          "base_uri": "https://localhost:8080/"
        },
        "id": "WDDmop134LMX",
        "outputId": "67738870-1140-4a81-9048-0bb97513cf0c"
      },
      "execution_count": 73,
      "outputs": [
        {
          "output_type": "stream",
          "name": "stdout",
          "text": [
            "214,405\n",
            "170,017,261\n"
          ]
        }
      ]
    },
    {
      "cell_type": "code",
      "source": [
        "import requests\n",
        "from bs4 import BeautifulSoup\n",
        "\n",
        "# Set the date you want to query\n",
        "query_date = \"2023/02/15\"\n",
        "\n",
        "# URL of the webpage to scrape\n",
        "url = \"https://www.taifex.com.tw/cht/3/futDailyMarketReport\"\n",
        "\n",
        "# Parameters for the request\n",
        "payload = {\n",
        "  \"queryType\": \"2\",\n",
        "  \"marketCode\": \"0\",\n",
        "  \"dateaddcnt\": \"\",\n",
        "  \"commodity_id\": \"TX\",\n",
        "  \"commodity_id2\": \"\",\n",
        "  \"queryDate\": query_date,\n",
        "  \"MarketCode\": \"1\",\n",
        "  \"commodity_idt\": \"TX\",\n",
        "  \"commodity_id2t\": \"\",\n",
        "  \"commodity_id2t2\": \"\"\n",
        "}\n",
        "\n",
        "# Make the request and parse the response using BeautifulSoup\n",
        "response = requests.post(url, data=payload)\n",
        "soup = BeautifulSoup(response.content, \"html.parser\")\n",
        "soup\n",
        "\n",
        "rows = soup.find_all('tr')\n",
        "\n",
        "# loop through each row and find the one with the required date\n",
        "for row in rows:\n",
        "    cols = row.find_all('td')\n",
        "    if len(cols) == 0:\n",
        "        continue\n",
        "    if cols[0].text.strip() != 'TX':\n",
        "        continue\n",
        "    if cols[1].text.strip() != '202302':\n",
        "        continue\n",
        "\n",
        "    # found the row with the required date\n",
        "    到期月份 = cols[1].text.strip()\n",
        "    日盤期貨_開盤價 = cols[2].text.strip()\n",
        "    日盤期貨_最高價 = cols[3].text.strip()\n",
        "    日盤期貨_最低價 = cols[4].text.strip()\n",
        "    日盤期貨_最後成交價 = cols[5].text.strip()\n",
        "    print(f\"到期月份: {到期月份}\")\n",
        "    print(f\"日盤期貨開盤價: {日盤期貨_開盤價}\")\n",
        "    print(f\"日盤期貨最高價: {日盤期貨_最高價}\")\n",
        "    print(f\"日盤期貨最低價: {日盤期貨_最低價}\")\n",
        "    print(f\"日盤期貨最後成交價: {日盤期貨_最後成交價}\")\n",
        "    break\n",
        "\n",
        "# Parameters for the request\n",
        "payload = {\n",
        "  \"queryType\": \"2\",\n",
        "  \"marketCode\": \"1\",\n",
        "  \"dateaddcnt\": \"\",\n",
        "  \"commodity_id\": \"TX\",\n",
        "  \"commodity_id2\": \"\",\n",
        "  \"queryDate\": query_date,\n",
        "  \"MarketCode\": \"1\",\n",
        "  \"commodity_idt\": \"TX\",\n",
        "  \"commodity_id2t\": \"\",\n",
        "  \"commodity_id2t2\": \"\"\n",
        "}\n",
        "\n",
        "# Make the request and parse the response using BeautifulSoup\n",
        "response = requests.post(url, data=payload)\n",
        "soup = BeautifulSoup(response.content, \"html.parser\")\n",
        "soup\n",
        "\n",
        "rows = soup.find_all('tr')\n",
        "\n",
        "# loop through each row and find the one with the required date\n",
        "for row in rows:\n",
        "    cols = row.find_all('td')\n",
        "    if len(cols) == 0:\n",
        "        continue\n",
        "    if cols[0].text.strip() != 'TX':\n",
        "        continue\n",
        "    if cols[1].text.strip() != '202302':\n",
        "        continue\n",
        "\n",
        "    # found the row with the required date\n",
        "    到期月份 = cols[1].text.strip()\n",
        "    夜盤期貨_開盤價 = cols[2].text.strip()\n",
        "    夜盤期貨_最高價 = cols[3].text.strip()\n",
        "    夜盤期貨_最低價 = cols[4].text.strip()\n",
        "    夜盤期貨_最後成交價 = cols[5].text.strip()\n",
        "    print(f\"到期月份: {到期月份}\")\n",
        "    print(f\"夜盤期貨開盤價: {夜盤期貨_開盤價}\")\n",
        "    print(f\"夜盤期貨最高價: {夜盤期貨_最高價}\")\n",
        "    print(f\"夜盤期貨最低價: {夜盤期貨_最低價}\")\n",
        "    print(f\"夜盤期貨最後成交價: {夜盤期貨_最後成交價}\")\n",
        "    break"
      ],
      "metadata": {
        "colab": {
          "base_uri": "https://localhost:8080/"
        },
        "id": "dJVrkQYQ6JFJ",
        "outputId": "dad6380a-4efc-4921-97e1-8aedacfd6351"
      },
      "execution_count": 82,
      "outputs": [
        {
          "output_type": "stream",
          "name": "stdout",
          "text": [
            "到期月份: 202302\n",
            "日盤期貨開盤價: 15502\n",
            "日盤期貨最高價: 15550\n",
            "日盤期貨最低價: 15382\n",
            "日盤期貨最後成交價: 15398\n",
            "到期月份: 202302\n",
            "夜盤期貨開盤價: 15665\n",
            "夜盤期貨最高價: 15741\n",
            "夜盤期貨最低價: 15592\n",
            "夜盤期貨最後成交價: 15720\n"
          ]
        }
      ]
    },
    {
      "cell_type": "code",
      "source": [
        "import requests\n",
        "import json\n",
        "\n",
        "url = \"https://www.tpex.org.tw/web/stock/aftertrading/market_highlight/highlight_result.php\"\n",
        "date = \"112/03/24\"\n",
        "payload = {\"l\": \"zh-tw\", \"d\": date}\n",
        "\n",
        "response = requests.get(url, params=payload)\n",
        "data = json.loads(response.text)\n",
        "\n",
        "總成交股數 = data[\"tradeVolumn\"]\n",
        "收市指數 = data[\"close\"]\n",
        "上漲家數 = data[\"upNum\"]\n",
        "下跌家數 = data[\"downNum\"]\n",
        "漲停家數 = data[\"upStopNum\"]\n",
        "跌停家數 = data[\"downStopNum\"]\n",
        "\n",
        "print(\"本日總成交股數 (仟股):\", 總成交股數)\n",
        "print(\"收市指數:\", 收市指數)\n",
        "print(\"上漲家數:\", 上漲家數)\n",
        "print(\"下跌家數:\", 下跌家數)\n",
        "print(\"漲停家數:\", 漲停家數)\n",
        "print(\"跌停家數:\", 跌停家數)\n"
      ],
      "metadata": {
        "colab": {
          "base_uri": "https://localhost:8080/"
        },
        "id": "wtWSnuqpbhwC",
        "outputId": "89bba536-8814-4503-bd45-917e0d3f0e36"
      },
      "execution_count": 95,
      "outputs": [
        {
          "output_type": "stream",
          "name": "stdout",
          "text": [
            "本日總成交股數 (仟股): 869,840\n",
            "收市指數: 213.6\n",
            "上漲家數: 372\n",
            "下跌家數: 328\n",
            "漲停家數: 11\n",
            "跌停家數: 1\n"
          ]
        }
      ]
    },
    {
      "cell_type": "code",
      "source": [
        "soup"
      ],
      "metadata": {
        "colab": {
          "base_uri": "https://localhost:8080/"
        },
        "id": "eUOX8DDTfiGI",
        "outputId": "7fb320d5-64f1-4d2d-b53f-3a4d62866c73"
      },
      "execution_count": 104,
      "outputs": [
        {
          "output_type": "execute_result",
          "data": {
            "text/plain": [
              "{\"stat\":\"OK\",\"date\":\"20230316\",\"title\":\"112年03月16日 三大法人買賣金額統計表\",\"fields\":[\"單位名稱\",\"買進金額\",\"賣出金額\",\"買賣差額\"],\"data\":[[\"自營商(自行買賣)\",\"2,505,434,091\",\"3,172,213,503\",\"-666,779,412\"],[\"自營商(避險)\",\"7,139,824,078\",\"11,276,151,805\",\"-4,136,327,727\"],[\"投信\",\"4,727,428,514\",\"3,330,455,872\",\"1,396,972,642\"],[\"外資及陸資(不含外資自營商)\",\"65,524,279,166\",\"77,711,631,782\",\"-12,187,352,616\"],[\"外資自營商\",\"22,284,430\",\"31,173,120\",\"-8,888,690\"],[\"合計\",\"79,896,965,849\",\"95,490,452,962\",\"-15,593,487,113\"]],\"params\":{\"type\":\"day\",\"dayDate\":\"20230316\",\"weekDate\":\"20230327\",\"monthDate\":\"20230329\",\"response\":\"json\",\"_\":\"1680111881562\",\"controller\":\"fund\",\"action\":\"BFI82U\",\"lang\":\"zh\"},\"notes\":[\"自營商表示證券自營商專戶。\",\"投信表示本國投資信託基金。\",\"外資及陸資表示依「華僑及外國人投資證券管理辦法」及「大陸地區投資人來臺從事證券投資及期貨交易管理辦法」辦理登記等投資人。\",\"因外資自營商買賣金額已計入自營商買賣金額，故不納入三大法人買賣金額之合計數計算。\",\"本統計資訊含一般、零股、盤後定價、鉅額，不含拍賣、標購。\",\"本資訊以當日原始成交情形統計，不以證券商申報錯帳、更正帳號等調整後資料統計。\",\"外幣成交值係以本公司當日下午3時30分公告匯率換算後加入成交金額。<br/>公告匯率請參考本公司首頁&gt;產品與服務&gt;交易系統&gt;雙幣ETF專區&gt;代號對應及每日公告匯率。\"],\"hints\":\"單位：元\"}"
            ]
          },
          "metadata": {},
          "execution_count": 104
        }
      ]
    },
    {
      "cell_type": "code",
      "source": [
        "import requests\n",
        "\n",
        "# URL for the request\n",
        "url = \"https://www.twse.com.tw/fund/BFI82U\"\n",
        "\n",
        "# Parameters for the request\n",
        "payload = {\"type\": \"day\", \"dayDate\": \"20230316\"}\n",
        "\n",
        "# Make the request and get the response as a JSON object\n",
        "response = requests.get(url, params=payload).json()\n",
        "\n",
        "# Extracting the required information\n",
        "for row in response[\"data\"]:\n",
        "    if row[0] == \"外資及陸資(不含外資自營商)\":\n",
        "        外資及陸資 = row[3]\n",
        "    elif row[0] == \"合計\":\n",
        "        合計 = row[3]\n",
        "        break\n",
        "\n",
        "print(f\"外資及陸資 (不含外資自營商) = {外資及陸資}\")\n",
        "print(f\"合計 = {合計}\")\n"
      ],
      "metadata": {
        "colab": {
          "base_uri": "https://localhost:8080/"
        },
        "id": "dA4dYWnFfnHm",
        "outputId": "7146f9a4-0735-4538-ca47-f86e9bd23421"
      },
      "execution_count": 109,
      "outputs": [
        {
          "output_type": "stream",
          "name": "stdout",
          "text": [
            "外資及陸資 (不含外資自營商) = -12,187,352,616\n",
            "合計 = -15,593,487,113\n"
          ]
        }
      ]
    },
    {
      "cell_type": "code",
      "source": [],
      "metadata": {
        "id": "bpQz-1mDg0Bi"
      },
      "execution_count": null,
      "outputs": []
    }
  ]
}